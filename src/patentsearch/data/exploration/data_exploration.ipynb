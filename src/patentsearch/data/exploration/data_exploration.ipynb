{
 "cells": [
  {
   "cell_type": "code",
   "execution_count": 3,
   "metadata": {},
   "outputs": [],
   "source": [
    "import pandas as pd\n"
   ]
  },
  {
   "cell_type": "code",
   "execution_count": 4,
   "metadata": {},
   "outputs": [],
   "source": [
    "# analysing patentsview data for text\n",
    "reader = pd.read_csv('/work/lucid/dmass/data/exploration/patentsview/data/20181127/bulk-downloads/brf_sum_text.tsv',delimiter='\\t',iterator=True,compression='infer')"
   ]
  },
  {
   "cell_type": "code",
   "execution_count": 6,
   "metadata": {},
   "outputs": [
    {
     "name": "stdout",
     "output_type": "stream",
     "text": [
      "7318407\n",
      "Index(['uuid', 'patent_id', 'text'], dtype='object')\n",
      "BACKGROUND The present invention relates to a governor for an internal combustion engine, and more particularly to a mechanical governor with low temporary droop for a small engine. Governors are generally used to regulate and stabilize the speed of internal combustion engines. The mechanical governor generally receives an input indicative of an engine speed and moves an engine throttle to adjust the engine speed. A governor spring affects movement of the throttle such that the governed speed of the engine is determined by the interplay between the movement of the governor speed sensor and the spring force of the governor spring. Typically, the speed sensor causes a non-linear speed sensor force, whereas the governor spring is defined by a substantially constant force. Therefore, the governor spring only substantially counteracts the force of the speed sensor over a very limited range, resulting in an unstable governor in some circumstances. A typical governor provides continuous adjustment to a throttle or other control member in an effort to maintain a constant engine speed. Droop of a governor allows engine speed to drop when a load is applied to the engine. The amount of droop is a characteristic of a particular mechanical governor, and is determined in part by a spring rate of the governor spring and the tension applied to the control member by the governor spring. Reducing the speed droop by lowering the spring rate of the governor spring may cause the governor to be overly sensitive to small changes in engine load, thus resulting in a less stable engine control. On the other hand, increasing the spring rate makes the governor spring stiffer and more resistant to small changes in engine load, thus making engine reaction sluggish. In many internal combustion engines, adjusting the engine speed may result in engine hunting or over-compensation. Hunting occurs when the engine overshoots or undershoots the desired speed and is unable to quickly settle at the desired speed. Hunting can be caused by many factors, including the use of springs having light spring rates, sticking or binding between movable parts of the engine and the governor, and the like. In one embodiment, the invention provides a mechanical governor for an engine that includes a speed sensor coupled to the engine that moves in response to changes in speed of the engine. The governor further includes a throttle member, a linkage, a primary spring, and a secondary spring. The linkage couples the speed sensor and the throttle member to move the throttle member between a first position and a second position in response to the speed of the engine. The primary spring is connected between the throttle member and a first fixed portion of the engine to bias the throttle member in a first direction, and the secondary spring is connected between the throttle member and a second fixed portion of the engine to bias the throttle member in a second direction that is at least partially opposite to the first direction. In another embodiment, the invention provides an internal combustion engine that includes a cylinder, and a piston disposed within the cylinder that is reciprocal in response to combustion of a fuel in a combustion chamber. The engine further includes a crankshaft coupled to the piston that rotates in response to the reciprocation of the piston, and a speed sensor coupled to the crankshaft. The speed sensor generates a signal related to the rotational speed of the crankshaft. A throttle member moves between a first position and a second position in response to the signal. A primary spring has a primary spring rate and is coupled to the throttle member to bias the throttle member in a first direction. A secondary spring defines a secondary spring rate that is less than the primary spring rate. The secondary spring couples to the throttle member to bias the throttle member in a second direction that is at least partially opposite to the first direction. Other aspects of the invention will become apparent by consideration of the detailed description and accompanying drawings.\n"
     ]
    }
   ],
   "source": [
    "chunk = reader.get_chunk(1)\n",
    "text=chunk.iloc[0].get('text')\n",
    "print(chunk.iloc[0].get('patent_id'))\n",
    "print(chunk.columns)\n",
    "print(text)"
   ]
  },
  {
   "cell_type": "code",
   "execution_count": 7,
   "metadata": {},
   "outputs": [],
   "source": [
    "# analysing uspto xml data. these are big xml files.\n",
    "import xml.sax\n",
    "import xml.sax.handler"
   ]
  },
  {
   "cell_type": "code",
   "execution_count": 8,
   "metadata": {},
   "outputs": [
    {
     "data": {
      "text/plain": [
       "'\\n\\nA plant removal tool combining a rake and a hoe for removing plants from the ground includes a shaft that may be gripped. A hoe is coupled to the shaft and the hoe engages the ground when the shaft is manipulated. In this way the hoe chops plants growing in the ground. A rake is coupled to the shaft to rake the plants when the plants have been chopped.\\n\\n'"
      ]
     },
     "execution_count": 8,
     "metadata": {},
     "output_type": "execute_result"
    }
   ],
   "source": [
    "class BiblioGraphyHandler( xml.sax.ContentHandler ):\n",
    "    def __init__(self):\n",
    "      self.current_tag = \"\"\n",
    "      self.abstract = ''\n",
    "      self.keep_text = False\n",
    "   \n",
    "   # Call when an element starts\n",
    "    def startElement(self, tag, attributes):\n",
    "        self.current_tag = tag\n",
    "        if tag == 'abstract':\n",
    "            self.keep_text = True\n",
    "   \n",
    "   # Call when an elements ends\n",
    "    def endElement(self, tag):\n",
    "        if tag == 'abstract':\n",
    "            self.keep_text = False\n",
    "    def characters(self, content):\n",
    "        if self.keep_text:\n",
    "            self.abstract += content\n",
    "    \n",
    "parser = xml.sax.make_parser()\n",
    "# turn off namepsaces\n",
    "parser.setFeature(xml.sax.handler.feature_namespaces, 0)\n",
    "parser.setFeature(xml.sax.handler.feature_external_ges, False)\n",
    "# override the default ContextHandler\n",
    "Handler = BiblioGraphyHandler()\n",
    "parser.setContentHandler( Handler )\n",
    "\n",
    "parser.parse(\"uspto_bulk/frontpage//0.xml\")\n",
    "Handler.abstract"
   ]
  },
  {
   "cell_type": "code",
   "execution_count": null,
   "metadata": {},
   "outputs": [],
   "source": []
  },
  {
   "cell_type": "code",
   "execution_count": null,
   "metadata": {},
   "outputs": [],
   "source": []
  },
  {
   "cell_type": "code",
   "execution_count": null,
   "metadata": {},
   "outputs": [],
   "source": []
  }
 ],
 "metadata": {
  "kernelspec": {
   "display_name": "Python 3",
   "language": "python",
   "name": "python3"
  },
  "language_info": {
   "codemirror_mode": {
    "name": "ipython",
    "version": 3
   },
   "file_extension": ".py",
   "mimetype": "text/x-python",
   "name": "python",
   "nbconvert_exporter": "python",
   "pygments_lexer": "ipython3",
   "version": "3.7.1"
  }
 },
 "nbformat": 4,
 "nbformat_minor": 2
}
